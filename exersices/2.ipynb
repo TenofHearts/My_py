{
 "cells": [
  {
   "cell_type": "markdown",
   "metadata": {},
   "source": [
    "# 为了运行doctest, 你可以再创建一个.py文件, 将函数复制过去, 并在terminal输入`python -m doctest -v <文件名>.py`以运行doctest"
   ]
  },
  {
   "cell_type": "markdown",
   "metadata": {},
   "source": [
    "**1. pawssible_patches**\n",
    "\n",
    "输入两个字符串`start`, `goal`, 返回最少需要修改`start`使其与`goal`相同的步数. 修改有三种手段:\n",
    "- 在`start`中添加一个字母\n",
    "- 在`start`中删去一个字母\n",
    "- 将`start`的字母修改"
   ]
  },
  {
   "cell_type": "code",
   "execution_count": 1,
   "metadata": {},
   "outputs": [],
   "source": [
    "def pawssible_patches(start, goal):\n",
    "    \"\"\"A diff function that computes the edit distance from START to GOAL.\"\"\"\n",
    "    if _________: # Fill in the condition\n",
    "        # BEGIN\n",
    "        \"*** YOUR CODE HERE ***\"\n",
    "        return ___________\n",
    "        # END\n",
    "\n",
    "    elif _______________: # Feel free to remove or add additional cases\n",
    "        # BEGIN\n",
    "        \"*** YOUR CODE HERE ***\"\n",
    "        return _______________________\n",
    "        # END\n",
    "\n",
    "    else:\n",
    "        add_diff = ______________\n",
    "        remove_diff = ____________________\n",
    "        substitute_diff = _____________________\n",
    "        # BEGIN\n",
    "        \"*** YOUR CODE HERE ***\"\n",
    "        return ________________\n",
    "        # END"
   ]
  },
  {
   "cell_type": "markdown",
   "metadata": {},
   "source": [
    "**2. trees and linked lists**\n",
    "\n",
    "树和链表都是典型的递归数据结构, 我们利用的树定义如下:"
   ]
  },
  {
   "cell_type": "code",
   "execution_count": 2,
   "metadata": {},
   "outputs": [],
   "source": [
    "class Tree:\n",
    "    \"\"\"\n",
    "    >>> t = Tree(3, [Tree(2, [Tree(5)]), Tree(4)])\n",
    "    >>> t.label\n",
    "    3\n",
    "    >>> t.branches[0].label\n",
    "    2\n",
    "    >>> t.branches[1].is_leaf()\n",
    "    True\n",
    "    \"\"\"\n",
    "\n",
    "    def __init__(self, label, branches=[]):\n",
    "        for b in branches:\n",
    "            assert isinstance(b, Tree)\n",
    "        self.label = label\n",
    "        self.branches = list(branches)\n",
    "\n",
    "    def is_leaf(self):\n",
    "        return not self.branches\n",
    "\n",
    "    def map(self, fn):\n",
    "        \"\"\"\n",
    "        Apply a function `fn` to each node in the tree and mutate the tree.\n",
    "\n",
    "        >>> t1 = Tree(1)\n",
    "        >>> t1.map(lambda x: x + 2)\n",
    "        >>> t1.map(lambda x : x * 4)\n",
    "        >>> t1.label\n",
    "        12\n",
    "        >>> t2 = Tree(3, [Tree(2, [Tree(5)]), Tree(4)])\n",
    "        >>> t2.map(lambda x: x * x)\n",
    "        >>> t2\n",
    "        Tree(9, [Tree(4, [Tree(25)]), Tree(16)])\n",
    "        \"\"\"\n",
    "        self.label = fn(self.label)\n",
    "        for b in self.branches:\n",
    "            b.map(fn)\n",
    "\n",
    "    def __contains__(self, e):\n",
    "        \"\"\"\n",
    "        Determine whether an element exists in the tree.\n",
    "\n",
    "        >>> t1 = Tree(1)\n",
    "        >>> 1 in t1\n",
    "        True\n",
    "        >>> 8 in t1\n",
    "        False\n",
    "        >>> t2 = Tree(3, [Tree(2, [Tree(5)]), Tree(4)])\n",
    "        >>> 6 in t2\n",
    "        False\n",
    "        >>> 5 in t2\n",
    "        True\n",
    "        \"\"\"\n",
    "        if self.label == e:\n",
    "            return True\n",
    "        for b in self.branches:\n",
    "            if e in b:\n",
    "                return True\n",
    "        return False\n",
    "\n",
    "    def __repr__(self):\n",
    "        if self.branches:\n",
    "            branch_str = \", \" + repr(self.branches)\n",
    "        else:\n",
    "            branch_str = \"\"\n",
    "        return \"Tree({0}{1})\".format(self.label, branch_str)\n",
    "\n",
    "    def __str__(self):\n",
    "        def print_tree(t, indent=0):\n",
    "            tree_str = \"  \" * indent + str(t.label) + \"\\n\"\n",
    "            for b in t.branches:\n",
    "                tree_str += print_tree(b, indent + 1)\n",
    "            return tree_str\n",
    "\n",
    "        return print_tree(self).rstrip()"
   ]
  },
  {
   "cell_type": "markdown",
   "metadata": {},
   "source": [
    "一下是链表的定义:"
   ]
  },
  {
   "cell_type": "code",
   "execution_count": 3,
   "metadata": {},
   "outputs": [],
   "source": [
    "class Link:\n",
    "    \"\"\"A linked list.\n",
    "\n",
    "    >>> s = Link(1)\n",
    "    >>> s.first\n",
    "    1\n",
    "    >>> s.rest is Link.empty\n",
    "    True\n",
    "    >>> s = Link(2, Link(3, Link(4)))\n",
    "    >>> s.first = 5\n",
    "    >>> s.rest.first = 6\n",
    "    >>> s.rest.rest = Link.empty\n",
    "    >>> s                                    # Displays the contents of repr(s)\n",
    "    Link(5, Link(6))\n",
    "    >>> s.rest = Link(7, Link(Link(8, Link(9))))\n",
    "    >>> s\n",
    "    Link(5, Link(7, Link(Link(8, Link(9)))))\n",
    "    >>> print(s)                             # Prints str(s)\n",
    "    <5 7 <8 9>>\n",
    "    \"\"\"\n",
    "\n",
    "    empty = ()\n",
    "\n",
    "    def __init__(self, first, rest=empty):\n",
    "        assert rest is Link.empty or isinstance(rest, Link)\n",
    "        self.first = first\n",
    "        self.rest = rest\n",
    "\n",
    "    def __repr__(self):\n",
    "        if self.rest is not Link.empty:\n",
    "            rest_repr = \", \" + repr(self.rest)\n",
    "        else:\n",
    "            rest_repr = \"\"\n",
    "        return \"Link(\" + repr(self.first) + rest_repr + \")\"\n",
    "\n",
    "    def __str__(self):\n",
    "        string = \"<\"\n",
    "        while self.rest is not Link.empty:\n",
    "            string += str(self.first) + \" \"\n",
    "            self = self.rest\n",
    "        return string + str(self.first) + \">\""
   ]
  },
  {
   "cell_type": "markdown",
   "metadata": {},
   "source": [
    "---\n",
    "#### Tree\n",
    "- prune small\n",
    "  \n",
    "  接受两个参数t和n. 定义一个函数, 将树t修剪为一个每个节点都最多只保留label最小的n个branch的树\n",
    "\n",
    "  **需要修改树t本身**"
   ]
  },
  {
   "cell_type": "code",
   "execution_count": 4,
   "metadata": {},
   "outputs": [],
   "source": [
    "def prune_small(t, n):\n",
    "    \"\"\"Prune the tree mutatively, keeping only the n branches\n",
    "    of each node with the smallest label.\n",
    "\n",
    "    >>> t1 = Tree(6)\n",
    "    >>> prune_small(t1, 2)\n",
    "    >>> t1\n",
    "    Tree(6)\n",
    "    >>> t2 = Tree(6, [Tree(3), Tree(4)])\n",
    "    >>> prune_small(t2, 1)\n",
    "    >>> t2\n",
    "    Tree(6, [Tree(3)])\n",
    "    >>> t3 = Tree(6, [Tree(1), Tree(3, [Tree(1), Tree(2), Tree(3)]), Tree(5, [Tree(3), Tree(4)])])\n",
    "    >>> prune_small(t3, 2)\n",
    "    >>> t3\n",
    "    Tree(6, [Tree(1), Tree(3, [Tree(1), Tree(2)])])\n",
    "    \"\"\"\n",
    "    # You code here"
   ]
  },
  {
   "cell_type": "markdown",
   "metadata": {},
   "source": [
    "- cumulative product\n",
    "\n",
    "  将树中每个节点的label修改为其子树的所有结点的label的乘积\n",
    "\n",
    "  **需要修改树本身**"
   ]
  },
  {
   "cell_type": "code",
   "execution_count": 5,
   "metadata": {},
   "outputs": [],
   "source": [
    "def cumulative_mul(t):\n",
    "    \"\"\"Mutates t so that each node's label becomes the product of all labels in\n",
    "    the corresponding subtree rooted at t.\n",
    "\n",
    "    >>> t = Tree(1, [Tree(3, [Tree(5)]), Tree(7)])\n",
    "    >>> cumulative_mul(t)\n",
    "    >>> t\n",
    "    Tree(105, [Tree(15, [Tree(5)]), Tree(7)])\n",
    "    \"\"\"\n",
    "    \"*** YOUR CODE HERE ***\""
   ]
  },
  {
   "cell_type": "markdown",
   "metadata": {},
   "source": [
    "---\n",
    "#### Linked List\n",
    "- covert link\n",
    "\n",
    "  接受一个链表作为参数, 返回以个对应的python list"
   ]
  },
  {
   "cell_type": "code",
   "execution_count": 6,
   "metadata": {},
   "outputs": [],
   "source": [
    "def convert_link(link):\n",
    "    \"\"\"Takes a linked list and returns a Python list with the same elements.\n",
    "\n",
    "    >>> link = Link(1, Link(2, Link(3, Link(4))))\n",
    "    >>> convert_link(link)\n",
    "    [1, 2, 3, 4]\n",
    "    >>> convert_link(Link.empty)\n",
    "    []\n",
    "    \"\"\"\n",
    "    # You code here"
   ]
  },
  {
   "cell_type": "markdown",
   "metadata": {},
   "source": [
    "- deep length\n",
    "\n",
    "  众所周知, python是一个弱类型语言, 因此在我们构造的链表中, 其中的`first`可以是任何类型, 甚至是另一个`Link`\n",
    "\n",
    "  完成函数`deep_len`, 接受一个链表`lnk`作为参数, 返回其`deep length`:\n",
    "  - 若`lnk`中的所有元素都不为链表, 则`deep length`就是其长度\n",
    "  - 若某个节点的元素是一个链表, 则需要加上这个链表的长度\n",
    "  \n",
    "  **可以参考doctest理解**"
   ]
  },
  {
   "cell_type": "code",
   "execution_count": 7,
   "metadata": {},
   "outputs": [],
   "source": [
    "def deep_len(lnk):\n",
    "    \"\"\" Returns the deep length of a possibly deep linked list.\n",
    "\n",
    "    >>> deep_len(Link(1, Link(2, Link(3))))\n",
    "    3\n",
    "    >>> deep_len(Link(Link(1, Link(2)), Link(3, Link(4))))\n",
    "    4\n",
    "    >>> levels = Link(Link(Link(1, Link(2)), \\\n",
    "            Link(3)), Link(Link(4), Link(5)))\n",
    "    >>> print(levels)\n",
    "    <<<1 2> 3> <4> 5>\n",
    "    >>> deep_len(levels)\n",
    "    5\n",
    "    \"\"\""
   ]
  }
 ],
 "metadata": {
  "kernelspec": {
   "display_name": "Pytorch",
   "language": "python",
   "name": "pytorch"
  },
  "language_info": {
   "codemirror_mode": {
    "name": "ipython",
    "version": 3
   },
   "file_extension": ".py",
   "mimetype": "text/x-python",
   "name": "python",
   "nbconvert_exporter": "python",
   "pygments_lexer": "ipython3",
   "version": "3.10.14"
  }
 },
 "nbformat": 4,
 "nbformat_minor": 2
}
