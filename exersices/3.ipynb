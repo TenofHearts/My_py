{
 "cells": [
  {
   "cell_type": "markdown",
   "metadata": {},
   "source": [
    "# 为了运行doctest, 你可以再创建一个.py文件, 将函数复制过去, 并在terminal输入`python -m doctest -v <文件名>.py`以运行doctest"
   ]
  },
  {
   "cell_type": "markdown",
   "metadata": {},
   "source": [
    "**1. Lambdas and Curring**\n",
    "利用lambda表达式, 我们可以将多参数的函数转化为一系列单参数的高阶函数, 这就是函数柯里化.\n",
    "\n",
    "函数柯里化在应对接受固定数量的参数的高阶函数时十分有用.\n",
    "\n",
    "**请你定义函数`lambda_curry2`. 它接受一个两个参数的函数作为参数, 并通过lambda表达式将其柯里化. 注意, 函数体应当只包含一个返回语句.**"
   ]
  },
  {
   "cell_type": "code",
   "execution_count": 2,
   "metadata": {},
   "outputs": [],
   "source": [
    "def lambda_curry2(func):\n",
    "    \"\"\"Returns a curried version of a two-argument function FUNC.\n",
    "\n",
    "    >>> from operator import add, mul, mod\n",
    "    >>> curried_add = lambda_curry2(add)\n",
    "    >>> add_three = curried_add(3)\n",
    "    >>> add_three(5)\n",
    "    8\n",
    "    >>> curried_mul = lambda_curry2(mul)\n",
    "    >>> mul_5 = curried_mul(5)\n",
    "    >>> mul_5(42)\n",
    "    210\n",
    "    >>> lambda_curry2(mod)(123)(10)\n",
    "    3\n",
    "    \"\"\"\n",
    "    # You code here\n",
    "    return ____________"
   ]
  }
 ],
 "metadata": {
  "kernelspec": {
   "display_name": "base",
   "language": "python",
   "name": "python3"
  },
  "language_info": {
   "codemirror_mode": {
    "name": "ipython",
    "version": 3
   },
   "file_extension": ".py",
   "mimetype": "text/x-python",
   "name": "python",
   "nbconvert_exporter": "python",
   "pygments_lexer": "ipython3",
   "version": "3.9.13"
  }
 },
 "nbformat": 4,
 "nbformat_minor": 2
}
