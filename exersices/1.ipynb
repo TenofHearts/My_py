{
 "cells": [
  {
   "cell_type": "markdown",
   "metadata": {},
   "source": [
    "# 为了运行doctest, 你可以再创建一个.py文件, 将函数复制过去, 并在terminal输入`python -m doctest -v <文件名>.py`以运行doctest"
   ]
  },
  {
   "cell_type": "markdown",
   "metadata": {},
   "source": [
    "**1. a_plus_abs_b**\n",
    "\n",
    "请写一个函数, 计算a + b的绝对值的结果. **注意! 不允许调用内置函数`abs`!!!**"
   ]
  },
  {
   "cell_type": "code",
   "execution_count": null,
   "metadata": {},
   "outputs": [],
   "source": [
    "def a_plus_abs_b(a, b):\n",
    "    \"\"\"Return a+abs(b), but without calling abs.\n",
    "\n",
    "    >>> a_plus_abs_b(2, 3)\n",
    "    5\n",
    "    >>> a_plus_abs_b(2, -3)\n",
    "    5\n",
    "    >>> # a check that you didn't change the return statement!\n",
    "    >>> import inspect, re\n",
    "    >>> re.findall(r'^\\s*(return .*)', inspect.getsource(a_plus_abs_b), re.M)\n",
    "    ['return f(a, b)']\n",
    "    \"\"\"\n",
    "    # Your code here\n",
    "\n",
    "    return f(a, b)"
   ]
  },
  {
   "cell_type": "markdown",
   "metadata": {
    "vscode": {
     "languageId": "plaintext"
    }
   },
   "source": [
    "**2. two_of_three**\n",
    "\n",
    "写一个函数, 接受三个正整数`x`, `y`, `z`作为参数, 返回其中较小两个数的平方和. "
   ]
  },
  {
   "cell_type": "code",
   "execution_count": null,
   "metadata": {},
   "outputs": [],
   "source": [
    "def two_of_three(x, y, z):\n",
    "    \"\"\"Return a*a + b*b, where a and b are the two smallest members of the\n",
    "    positive numbers x, y, and z.\n",
    "\n",
    "    >>> two_of_three(1, 2, 3)\n",
    "    5\n",
    "    >>> two_of_three(5, 3, 1)\n",
    "    10\n",
    "    >>> two_of_three(10, 2, 8)\n",
    "    68\n",
    "    >>> two_of_three(5, 5, 5)\n",
    "    50\n",
    "    >>> # check that your code consists of nothing but an expression (this docstring)\n",
    "    >>> # a return statement\n",
    "    >>> import inspect, ast\n",
    "    >>> [type(x).__name__ for x in ast.parse(inspect.getsource(two_of_three)).body[0].body]\n",
    "    ['Expr', 'Return']\n",
    "    \"\"\"\n",
    "    # Your code here"
   ]
  },
  {
   "cell_type": "markdown",
   "metadata": {},
   "source": [
    "**3. if_function**\n",
    "\n",
    "下面我将在这里简单介绍`if`语句. \n",
    "- `if`表达式的格式如下\n",
    "```\n",
    "if <逻辑表达式a>:\n",
    "    <a成立时运行的代码> # if语句块\n",
    "elif <逻辑表达式b>:\n",
    "    <b成立时运行的代码> # elif语句块\n",
    "...\n",
    "else:\n",
    "    <以上逻辑表达式都不成立时运行的代码> # else语句块\n",
    "```\n",
    "\n",
    "**值得注意的时:** `if语句`只能有一个, `elif语句块`可以有任意多个, `else语句块`只能有一个或没有\n",
    "\n",
    "---\n",
    "下面请你定义一个函数来模拟if语句, 为了使代码更简单, 你可以认为这个if语句只有一个`if语句块`和`else语句块`, 而没有`elis语句块`\n",
    "\n",
    "**思考: 在你写完之后, 请你想一想, 这个if函数和真正的if语句的行为有没有什么不一样?**"
   ]
  },
  {
   "cell_type": "code",
   "execution_count": null,
   "metadata": {},
   "outputs": [],
   "source": [
    "def if_function(condition, true_result, false_result):\n",
    "    \"\"\"Return true_result if condition is a true value, and\n",
    "    false_result otherwise.\n",
    "\n",
    "    >>> if_function(True, 2, 3)\n",
    "    2\n",
    "    >>> if_function(False, 2, 3)\n",
    "    3\n",
    "    >>> if_function(3==2, 3+2, 3-2)\n",
    "    1\n",
    "    >>> if_function(3>2, 3+2, 3-2)\n",
    "    5\n",
    "    \"\"\"\n",
    "    # You code here"
   ]
  }
 ],
 "metadata": {
  "kernelspec": {
   "display_name": "Pytorch",
   "language": "python",
   "name": "pytorch"
  },
  "language_info": {
   "name": "python",
   "version": "3.10.14"
  }
 },
 "nbformat": 4,
 "nbformat_minor": 2
}
