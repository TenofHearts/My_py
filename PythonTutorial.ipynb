{
 "cells": [
  {
   "cell_type": "markdown",
   "id": "3cd7c602",
   "metadata": {},
   "source": [
    "# Python Tutorial\n",
    "\n",
    "**1.** 声明变量和基本数学运算\n",
    "> python是一个弱类型解释型语言, 因此声明变量的方式十分简单"
   ]
  },
  {
   "cell_type": "code",
   "execution_count": 1,
   "id": "a24d8394",
   "metadata": {},
   "outputs": [
    {
     "data": {
      "text/plain": [
       "10"
      ]
     },
     "execution_count": 1,
     "metadata": {},
     "output_type": "execute_result"
    }
   ],
   "source": [
    "a = 10\n",
    "a"
   ]
  },
  {
   "cell_type": "code",
   "execution_count": 2,
   "id": "d875c25a",
   "metadata": {},
   "outputs": [],
   "source": [
    "b = 100\n",
    "c = 23"
   ]
  },
  {
   "cell_type": "code",
   "execution_count": 3,
   "id": "e6fbd930",
   "metadata": {},
   "outputs": [
    {
     "data": {
      "text/plain": [
       "110"
      ]
     },
     "execution_count": 3,
     "metadata": {},
     "output_type": "execute_result"
    }
   ],
   "source": [
    "a + b"
   ]
  },
  {
   "cell_type": "code",
   "execution_count": 4,
   "id": "a2c23565",
   "metadata": {},
   "outputs": [
    {
     "data": {
      "text/plain": [
       "4370"
      ]
     },
     "execution_count": 4,
     "metadata": {},
     "output_type": "execute_result"
    }
   ],
   "source": [
    "b * c + c * (b - a)"
   ]
  },
  {
   "cell_type": "markdown",
   "id": "17a6a8ce",
   "metadata": {},
   "source": [
    "**2.** 声明函数\n",
    "> python中的声明函数也十分简单, 但是近些年来, python提供了类型标注功能. 这写标注对python解释器毫无影响, 但是可以帮助程序员理解和构建程序, 也可以帮助IDE完成自动补全等功能."
   ]
  },
  {
   "cell_type": "code",
   "execution_count": 5,
   "id": "8e8e4900",
   "metadata": {},
   "outputs": [
    {
     "data": {
      "text/plain": [
       "3"
      ]
     },
     "execution_count": 5,
     "metadata": {},
     "output_type": "execute_result"
    }
   ],
   "source": [
    "def add(a: int, b: int) -> int:\n",
    "    return a + b\n",
    "\n",
    "\n",
    "add(1, 2)  # 正确使用"
   ]
  },
  {
   "cell_type": "code",
   "execution_count": 6,
   "id": "16957ac1",
   "metadata": {
    "scrolled": false
   },
   "outputs": [
    {
     "data": {
      "text/plain": [
       "'Hello World!'"
      ]
     },
     "execution_count": 6,
     "metadata": {},
     "output_type": "execute_result"
    }
   ],
   "source": [
    "add('Hello ', 'World!') # 这种使用虽然与类型标注不符, 但是最多只会使编译器提示Warning, 并不会造成Error"
   ]
  },
  {
   "cell_type": "markdown",
   "id": "895eba2e",
   "metadata": {},
   "source": [
    "**3.** 高阶函数\n",
    "> 高阶函数是以其他函数作为参数或返回一个函数的函数\n",
    "> 高阶函数有许多作用, 比如所有的装饰器(decorator)都是高阶函数, 而高阶函数也可以用来完成一些数据封装之类的任务."
   ]
  },
  {
   "cell_type": "code",
   "execution_count": 7,
   "id": "3b29dc8a",
   "metadata": {},
   "outputs": [],
   "source": [
    "def trace(fun):\n",
    "    def traced(n):\n",
    "        print(f\"{fun.__name__}({n})\")\n",
    "        return fun(n)\n",
    "\n",
    "    return traced"
   ]
  },
  {
   "cell_type": "code",
   "execution_count": 8,
   "id": "0401c9b5",
   "metadata": {},
   "outputs": [],
   "source": [
    "@trace\n",
    "def fact(n):\n",
    "    if n == 0:\n",
    "        return 1\n",
    "    else:\n",
    "        return n * fact(n - 1)\n",
    "    \n",
    "# fact = trace(fact)"
   ]
  },
  {
   "cell_type": "code",
   "execution_count": 9,
   "id": "f40834ab",
   "metadata": {},
   "outputs": [
    {
     "name": "stdout",
     "output_type": "stream",
     "text": [
      "fact(5)\n",
      "fact(4)\n",
      "fact(3)\n",
      "fact(2)\n",
      "fact(1)\n",
      "fact(0)\n"
     ]
    },
    {
     "data": {
      "text/plain": [
       "120"
      ]
     },
     "execution_count": 9,
     "metadata": {},
     "output_type": "execute_result"
    }
   ],
   "source": [
    "fact(5) # 这里奇怪的输出是tuple的问题"
   ]
  },
  {
   "cell_type": "markdown",
   "id": "792b3fa4",
   "metadata": {},
   "source": [
    "> 接下来我将展示高阶函数在数据封装上的应用, 一个典型的例子就是WithdrawAccount(一个只能取钱的银行账户)"
   ]
  },
  {
   "cell_type": "code",
   "execution_count": 10,
   "id": "ad3f2d39",
   "metadata": {},
   "outputs": [],
   "source": [
    "def makeAccount(holder:str, balance:int):\n",
    "    def withdraw(amount):\n",
    "        nonlocal balance\n",
    "        if amount > balance:\n",
    "            return 'Insufficient funds'\n",
    "        balance -= amount\n",
    "        return balance\n",
    "    return withdraw"
   ]
  },
  {
   "cell_type": "code",
   "execution_count": 11,
   "id": "e61a13e8",
   "metadata": {},
   "outputs": [],
   "source": [
    "jack = makeAccount('Jack', 100)\n",
    "rose = makeAccount('Rose', 200)"
   ]
  },
  {
   "cell_type": "code",
   "execution_count": 12,
   "id": "98a9b213",
   "metadata": {},
   "outputs": [
    {
     "data": {
      "text/plain": [
       "50"
      ]
     },
     "execution_count": 12,
     "metadata": {},
     "output_type": "execute_result"
    }
   ],
   "source": [
    "jack(50)"
   ]
  },
  {
   "cell_type": "code",
   "execution_count": 13,
   "id": "b34fe6a9",
   "metadata": {},
   "outputs": [
    {
     "data": {
      "text/plain": [
       "150"
      ]
     },
     "execution_count": 13,
     "metadata": {},
     "output_type": "execute_result"
    }
   ],
   "source": [
    "rose(50) # jack和rose是两个不同的闭包, 互不影响"
   ]
  },
  {
   "cell_type": "code",
   "execution_count": 14,
   "id": "22a79ff1",
   "metadata": {},
   "outputs": [
    {
     "data": {
      "text/plain": [
       "'Insufficient funds'"
      ]
     },
     "execution_count": 14,
     "metadata": {},
     "output_type": "execute_result"
    }
   ],
   "source": [
    "jack(100)"
   ]
  },
  {
   "cell_type": "code",
   "execution_count": 15,
   "id": "41a77eb1",
   "metadata": {},
   "outputs": [
    {
     "data": {
      "text/plain": [
       "50"
      ]
     },
     "execution_count": 15,
     "metadata": {},
     "output_type": "execute_result"
    }
   ],
   "source": [
    "rose(100)"
   ]
  },
  {
   "cell_type": "markdown",
   "id": "7a0f07eb",
   "metadata": {},
   "source": [
    "**4.** python的计算规则(Evaluation Rules)\n",
    "> 在3中, 可能会遇到一个问题: `jack`和`rose`的`balance`是如何维护的呢? 换句话说, 怎么保证`jack`不会取出来`rose`的钱呢?\n",
    "> 这就要展开介绍一下python的environment机制了\n",
    "---\n",
    "在python中, 名字(name)和值(value)的绑定是由一个字典来保障的, 每个名字都会跟一个值(类型并不重要)有对应关系. 而这些绑定都是可以随意变换的"
   ]
  },
  {
   "cell_type": "code",
   "execution_count": 16,
   "id": "5cba93ae",
   "metadata": {},
   "outputs": [
    {
     "data": {
      "text/plain": [
       "<function max>"
      ]
     },
     "execution_count": 16,
     "metadata": {},
     "output_type": "execute_result"
    }
   ],
   "source": [
    "max # 此时max这个名字绑定的是一个内置的函数"
   ]
  },
  {
   "cell_type": "code",
   "execution_count": 17,
   "id": "afb6d5f7",
   "metadata": {},
   "outputs": [],
   "source": [
    "# 可以将max从新绑定到一些别的东西, 比如2\n",
    "max = 2"
   ]
  },
  {
   "cell_type": "code",
   "execution_count": 18,
   "id": "43c587b8",
   "metadata": {},
   "outputs": [
    {
     "data": {
      "text/plain": [
       "2"
      ]
     },
     "execution_count": 18,
     "metadata": {},
     "output_type": "execute_result"
    }
   ],
   "source": [
    "# 现在max就是2了\n",
    "max"
   ]
  },
  {
   "cell_type": "markdown",
   "id": "0e76548f",
   "metadata": {},
   "source": [
    "以上的name和value的binding都是在一个叫做`global frame`的环境中完成的(确切的说, 此时的`environment`里只有`global frame`), 而我们调用一个函数时, 就会在`environment`中加入一个新的`frame`, 这个新的`frame`的`parent`就是这个函数被调用时所在的`frame`. \n",
    "\n",
    "听起来有且拗口,下面我们将用一个例子来展示. "
   ]
  },
  {
   "cell_type": "code",
   "execution_count": 19,
   "id": "845d243d",
   "metadata": {},
   "outputs": [],
   "source": [
    "x = 1 # 在global frame中定义了一个x\n",
    "def f():\n",
    "    x = 2 # 在f的frame中定义了一个x\n",
    "    return x"
   ]
  },
  {
   "cell_type": "code",
   "execution_count": 20,
   "id": "b3146990",
   "metadata": {},
   "outputs": [
    {
     "data": {
      "text/plain": [
       "2"
      ]
     },
     "execution_count": 20,
     "metadata": {},
     "output_type": "execute_result"
    }
   ],
   "source": [
    "f() # 此时在global frame中调用f, f新创造的frame(称其为f)的parent是global frame, f中的x是2"
   ]
  },
  {
   "cell_type": "code",
   "execution_count": 21,
   "id": "72b8f081",
   "metadata": {},
   "outputs": [],
   "source": [
    "def g():\n",
    "    x = 3# 这里的x是g的frame中的x\n",
    "    return x + f() # 这里的f()是调用f函数, 在g frame中创造f frame, f frame中的x是2, g frame中的x是3"
   ]
  },
  {
   "cell_type": "code",
   "execution_count": 22,
   "id": "eb3c904e",
   "metadata": {},
   "outputs": [
    {
     "data": {
      "text/plain": [
       "5"
      ]
     },
     "execution_count": 22,
     "metadata": {},
     "output_type": "execute_result"
    }
   ],
   "source": [
    "g()"
   ]
  },
  {
   "cell_type": "markdown",
   "id": "32cd9e1f",
   "metadata": {},
   "source": [
    "**由以上可以看出, 在计算一个name绑定的value时, 先会在当前`environment`的`frame`中寻找, 若找到则不会进入之前的`frame`寻找**"
   ]
  },
  {
   "cell_type": "code",
   "execution_count": 23,
   "id": "97b81aa3",
   "metadata": {},
   "outputs": [],
   "source": [
    "def h():\n",
    "    return x + 4"
   ]
  },
  {
   "cell_type": "markdown",
   "id": "c296b77a",
   "metadata": {},
   "source": [
    "可以猜测一下调用`h()`会得到什么结果"
   ]
  },
  {
   "cell_type": "code",
   "execution_count": 24,
   "id": "ebeb66f7",
   "metadata": {},
   "outputs": [
    {
     "data": {
      "text/plain": [
       "5"
      ]
     },
     "execution_count": 24,
     "metadata": {},
     "output_type": "execute_result"
    }
   ],
   "source": [
    "h()"
   ]
  },
  {
   "cell_type": "markdown",
   "id": "e8a0192a",
   "metadata": {},
   "source": [
    "**这是因为, frame `h`的parent是`global`, `h`中并没有对`x`的绑定, 因此在计算`x`的值时, 当前`environment`的`frame`中没有找到这个name, 故不断会进入当前`frame`的上层(也就是其parent), 直到`global`为止. 若是在整个`environment`中都没有找到这个name, 则会报错.**"
   ]
  },
  {
   "cell_type": "code",
   "execution_count": 25,
   "id": "51e1cf70",
   "metadata": {},
   "outputs": [
    {
     "ename": "NameError",
     "evalue": "name 'y' is not defined",
     "output_type": "error",
     "traceback": [
      "\u001b[1;31m---------------------------------------------------------------------------\u001b[0m",
      "\u001b[1;31mNameError\u001b[0m                                 Traceback (most recent call last)",
      "Cell \u001b[1;32mIn[25], line 1\u001b[0m\n\u001b[1;32m----> 1\u001b[0m \u001b[43my\u001b[49m \u001b[38;5;66;03m# 会报错\u001b[39;00m\n",
      "\u001b[1;31mNameError\u001b[0m: name 'y' is not defined"
     ]
    }
   ],
   "source": [
    "y # 会报错"
   ]
  },
  {
   "cell_type": "code",
   "execution_count": 26,
   "id": "13416deb",
   "metadata": {},
   "outputs": [],
   "source": [
    "def fu():\n",
    "    return y # 会报错"
   ]
  },
  {
   "cell_type": "code",
   "execution_count": 29,
   "id": "664ed66c",
   "metadata": {},
   "outputs": [
    {
     "ename": "NameError",
     "evalue": "name 'y' is not defined",
     "output_type": "error",
     "traceback": [
      "\u001b[1;31m---------------------------------------------------------------------------\u001b[0m",
      "\u001b[1;31mNameError\u001b[0m                                 Traceback (most recent call last)",
      "Cell \u001b[1;32mIn[29], line 1\u001b[0m\n\u001b[1;32m----> 1\u001b[0m \u001b[43mfu\u001b[49m\u001b[43m(\u001b[49m\u001b[43m)\u001b[49m\n",
      "Cell \u001b[1;32mIn[26], line 2\u001b[0m, in \u001b[0;36mfu\u001b[1;34m()\u001b[0m\n\u001b[0;32m      1\u001b[0m \u001b[38;5;28;01mdef\u001b[39;00m \u001b[38;5;21mfu\u001b[39m():\n\u001b[1;32m----> 2\u001b[0m     \u001b[38;5;28;01mreturn\u001b[39;00m \u001b[43my\u001b[49m\n",
      "\u001b[1;31mNameError\u001b[0m: name 'y' is not defined"
     ]
    }
   ],
   "source": [
    "fu()"
   ]
  }
 ],
 "metadata": {
  "kernelspec": {
   "display_name": "Pytorch",
   "language": "python",
   "name": "pytorch"
  },
  "language_info": {
   "codemirror_mode": {
    "name": "ipython",
    "version": 3
   },
   "file_extension": ".py",
   "mimetype": "text/x-python",
   "name": "python",
   "nbconvert_exporter": "python",
   "pygments_lexer": "ipython3",
   "version": "3.10.14"
  }
 },
 "nbformat": 4,
 "nbformat_minor": 5
}
